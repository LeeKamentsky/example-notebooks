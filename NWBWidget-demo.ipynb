{
 "cells": [
  {
   "cell_type": "code",
   "execution_count": 1,
   "metadata": {},
   "outputs": [],
   "source": [
    "import pynwb\n",
    "from pynwb import NWBHDF5IO\n",
    "from nwbwidgets import nwb2widget\n",
    "\n",
    "from dandi.download import download as dandi_download\n",
    "import os"
   ]
  },
  {
   "cell_type": "markdown",
   "metadata": {},
   "source": [
    "## Download a few files\n",
    "\n",
    "1. Visit https://dandiarchive.org/dandiset/000009/draft\n",
    "\n",
    "2. Click on the folder navigation icon\n",
    "\n",
    "3. Enter subject directory: `sub-anm00229327`\n",
    "\n",
    "4. Copy the URL and paste it below to download with the dandi client"
   ]
  },
  {
   "cell_type": "code",
   "execution_count": 2,
   "metadata": {},
   "outputs": [],
   "source": [
    "url = \"https://gui.dandiarchive.org/#/folder/5e72b6ac3da50caa9adb0498\""
   ]
  },
  {
   "cell_type": "markdown",
   "metadata": {},
   "source": [
    "You can retrieve a file programmatically"
   ]
  },
  {
   "cell_type": "code",
   "execution_count": 4,
   "metadata": {},
   "outputs": [
    {
     "name": "stderr",
     "output_type": "stream",
     "text": [
      "2020-03-23 04:04:53,709 [    INFO] Downloading folder with id 5e72b6ac3da50caa9adb0498 from https://girder.dandiarchive.org/\n",
      "2020-03-23 04:04:53,744 [    INFO] Traversing remote folders (sub-anm00229327) recursively and downloading them locally\n",
      "2020-03-23 04:04:53,874 [    INFO] '/home/jovyan/sub-anm00229327/sub-anm00229327_ses-20170627T093438_ecephys.nwb' - same time and size, skipping\n",
      "2020-03-23 04:04:53,918 [    INFO] '/home/jovyan/sub-anm00229327/sub-anm00229327_ses-20170627T093442_ecephys.nwb' - same time and size, skipping\n",
      "2020-03-23 04:04:53,983 [    INFO] '/home/jovyan/sub-anm00229327/sub-anm00229327_ses-20170627T093445_ecephys.nwb' - same time and size, skipping\n",
      "2020-03-23 04:04:54,016 [    INFO] '/home/jovyan/sub-anm00229327/sub-anm00229327_ses-20170627T093449_ecephys.nwb' - same time and size, skipping\n",
      "2020-03-23 04:04:54,064 [    INFO] '/home/jovyan/sub-anm00229327/sub-anm00229327_ses-20170627T093452_ecephys.nwb' - same time and size, skipping\n"
     ]
    }
   ],
   "source": [
    "dandi_download([url], os.getcwd(), \"refresh\", False)"
   ]
  },
  {
   "cell_type": "markdown",
   "metadata": {},
   "source": [
    "Or using the shell. DANDI will check if the same file exists."
   ]
  },
  {
   "cell_type": "code",
   "execution_count": 5,
   "metadata": {},
   "outputs": [
    {
     "name": "stderr",
     "output_type": "stream",
     "text": [
      "2020-03-23 04:04:56,159 [    INFO] Downloading folder with id 5e72b6ac3da50caa9adb0498 from https://girder.dandiarchive.org/\n",
      "2020-03-23 04:04:56,191 [    INFO] Traversing remote folders (sub-anm00229327) recursively and downloading them locally\n",
      "2020-03-23 04:04:56,324 [    INFO] './sub-anm00229327/sub-anm00229327_ses-20170627T093438_ecephys.nwb' - same time and size, skipping\n",
      "2020-03-23 04:04:56,355 [    INFO] './sub-anm00229327/sub-anm00229327_ses-20170627T093442_ecephys.nwb' - same time and size, skipping\n",
      "2020-03-23 04:04:56,384 [    INFO] './sub-anm00229327/sub-anm00229327_ses-20170627T093445_ecephys.nwb' - same time and size, skipping\n",
      "2020-03-23 04:04:56,414 [    INFO] './sub-anm00229327/sub-anm00229327_ses-20170627T093449_ecephys.nwb' - same time and size, skipping\n",
      "2020-03-23 04:04:56,444 [    INFO] './sub-anm00229327/sub-anm00229327_ses-20170627T093452_ecephys.nwb' - same time and size, skipping\n"
     ]
    }
   ],
   "source": [
    "%%bash -s \"$url\"\n",
    "dandi download $1"
   ]
  },
  {
   "cell_type": "markdown",
   "metadata": {},
   "source": [
    "#### Set the filename to one of the download files"
   ]
  },
  {
   "cell_type": "code",
   "execution_count": 6,
   "metadata": {},
   "outputs": [],
   "source": [
    "file_name = 'sub-anm00229327/sub-anm00229327_ses-20170627T093438_ecephys.nwb'"
   ]
  },
  {
   "cell_type": "markdown",
   "metadata": {},
   "source": [
    "### Use NWB to read the file"
   ]
  },
  {
   "cell_type": "code",
   "execution_count": 7,
   "metadata": {},
   "outputs": [],
   "source": [
    "nwb_io = NWBHDF5IO(file_name, mode='r')\n",
    "nwb = nwb_io.read()"
   ]
  },
  {
   "cell_type": "markdown",
   "metadata": {},
   "source": [
    "### Use the NWBWidget to introspect it"
   ]
  },
  {
   "cell_type": "code",
   "execution_count": 8,
   "metadata": {},
   "outputs": [
    {
     "data": {
      "application/vnd.jupyter.widget-view+json": {
       "model_id": "a93facbef4bf4ad489d0af773f094afd",
       "version_major": 2,
       "version_minor": 0
      },
      "text/plain": [
       "VBox(children=(HBox(children=(Label(value='session_description:', layout=Layout(max_height='40px', max_width='…"
      ]
     },
     "metadata": {},
     "output_type": "display_data"
    }
   ],
   "source": [
    "nwb2widget(nwb)"
   ]
  }
 ],
 "metadata": {
  "kernelspec": {
   "display_name": "Python 3",
   "language": "python",
   "name": "python3"
  },
  "language_info": {
   "codemirror_mode": {
    "name": "ipython",
    "version": 3
   },
   "file_extension": ".py",
   "mimetype": "text/x-python",
   "name": "python",
   "nbconvert_exporter": "python",
   "pygments_lexer": "ipython3",
   "version": "3.7.6"
  }
 },
 "nbformat": 4,
 "nbformat_minor": 4
}
