{
 "cells": [
  {
   "cell_type": "markdown",
   "id": "8ea26b69",
   "metadata": {},
   "source": [
    "# Fig 2: plot coarse labels\n",
    "### DANDI-set: [000055](https://dandiarchive.org/dandiset/000055/draft)\n",
    "### Notebook author: Steven Peterson"
   ]
  },
  {
   "cell_type": "code",
   "execution_count": null,
   "id": "38189eea",
   "metadata": {},
   "outputs": [],
   "source": [
    "%pip install --no-deps ndx-events"
   ]
  },
  {
   "cell_type": "code",
   "execution_count": null,
   "id": "495b1e03",
   "metadata": {},
   "outputs": [],
   "source": [
    "import pdb\n",
    "import requests\n",
    "import numpy as np\n",
    "import pandas as pd\n",
    "import matplotlib.pyplot as plt\n",
    "\n",
    "from pynwb import NWBHDF5IO\n",
    "from ndx_events import LabeledEvents, AnnotatedEventsTable, Events"
   ]
  },
  {
   "cell_type": "code",
   "execution_count": null,
   "id": "e2106163",
   "metadata": {},
   "outputs": [],
   "source": [
    "def get_data_location(dandiset_id, filepath, s3=False):\n",
    "    \"\"\"Get the location for any NWB file on DANDI\"\"\"\n",
    "    \n",
    "    asset_id = requests.request(\n",
    "        \"GET\",\n",
    "        f\"https://api.dandiarchive.org/api/dandisets/{dandiset_id}/versions/draft/assets/\",\n",
    "        headers={\"Accept\": \"application/json\"},\n",
    "        params={\"path\": filepath},\n",
    "    ).json()['results'][0]['asset_id']\n",
    "    \n",
    "    url = f\"https://api.dandiarchive.org/api/dandisets/{dandiset_id}/versions/draft/assets/{asset_id}/download/\"\n",
    "    if not s3:\n",
    "        return url\n",
    "    \n",
    "    s3_url = requests.request(url=url, method='head').url\n",
    "    if '?' in s3_url:\n",
    "        return s3_url[:s3_url.index('?')]\n",
    "    return s3_url"
   ]
  },
  {
   "cell_type": "code",
   "execution_count": null,
   "id": "bd8d3d1a",
   "metadata": {},
   "outputs": [],
   "source": [
    "targ_tlims = [13, 17]  # targeted window to plot (in hours)\n",
    "targeted = False  # plot targeted window (True) or whole day (False)\n",
    "first_val = True  # for targeted window, plot first activity label (True) or second (False)"
   ]
  },
  {
   "cell_type": "code",
   "execution_count": null,
   "id": "32cf0868",
   "metadata": {},
   "outputs": [],
   "source": [
    "dandiset_id = '000055'\n",
    "fname = 'sub-01/sub-01_ses-4_behavior+ecephys.nwb'\n",
    "\n",
    "s3_path = get_data_location(dandiset_id, fname, s3=True)\n",
    "\n",
    "\n",
    "io = NWBHDF5IO(s3_path, mode='r', load_namespaces=False, driver='ros3')\n",
    "nwb = io.read()\n",
    "clabels_orig = nwb.intervals['epochs'].to_dataframe()"
   ]
  },
  {
   "cell_type": "code",
   "execution_count": null,
   "id": "7b3b2a17",
   "metadata": {},
   "outputs": [],
   "source": [
    "clabels = clabels_orig.copy()\n",
    "if not targeted:\n",
    "    for i in range(len(clabels_orig)):\n",
    "        lab = clabels_orig.loc[i, 'labels']\n",
    "        if lab[:5] == 'Block':\n",
    "            clabels.loc[i, 'labels'] = 'Blocklist'\n",
    "        elif lab == '':\n",
    "            clabels.loc[i, 'labels'] = 'Blocklist'\n",
    "        elif lab not in ['Sleep/rest', 'Inactive']:\n",
    "            clabels.loc[i, 'labels'] = 'Active'\n",
    "else:\n",
    "    for i in range(len(clabels_orig)):\n",
    "        lab = clabels_orig.loc[i, 'labels']\n",
    "        if lab[:5] == 'Block':\n",
    "            clabels.loc[i, 'labels'] = 'Blocklist'\n",
    "        elif lab == '':\n",
    "            clabels.loc[i, 'labels'] = 'Blocklist'\n",
    "        elif first_val:\n",
    "            clabels.loc[i, 'labels'] = lab.split(', ')[0]\n",
    "        else:\n",
    "            clabels.loc[i, 'labels'] = lab.split(', ')[-1]\n",
    "\n",
    "if targeted:\n",
    "    start_val, end_val = targ_tlims[0]*3600, targ_tlims[1]*3600\n",
    "    clabels = clabels[(clabels['start_time'] >= start_val) &\\\n",
    "                      (clabels['stop_time'] <= end_val)]\n",
    "    clabels.reset_index(inplace=True)\n",
    "uni_labs = np.unique(clabels['labels'].values)"
   ]
  },
  {
   "cell_type": "markdown",
   "id": "d09e7cf5",
   "metadata": {},
   "source": [
    "## Plot labels over time"
   ]
  },
  {
   "cell_type": "code",
   "execution_count": null,
   "id": "7c713c97",
   "metadata": {},
   "outputs": [],
   "source": [
    "act_cols = plt.get_cmap('Reds')(np.linspace(0.15, 0.85, 5))\n",
    "if targeted:\n",
    "    if first_val:\n",
    "        category_colors = np.array(['dimgray', act_cols[1], act_cols[2],\n",
    "                                    act_cols[0], act_cols[3], act_cols[4]],\n",
    "                                   dtype=object)\n",
    "    else:\n",
    "        category_colors = np.array(['dimgray', act_cols[1], act_cols[0],\n",
    "                                    act_cols[3], act_cols[4]],\n",
    "                                   dtype=object)\n",
    "else:\n",
    "    category_colors = np.array([[1, 128/255, 178/255],'dimgray','lightgreen','lightskyblue'],\n",
    "                               dtype=object)\n",
    "    \n",
    "scale_fact = 1/3600\n",
    "bwidth = 0.5\n",
    "fig, ax = plt.subplots(figsize=(20, 2), dpi=150)\n",
    "for i in range(len(uni_labs)):\n",
    "    lab_inds = np.nonzero(uni_labs[i] == clabels['labels'].values)[0]\n",
    "    lab_starts = clabels.loc[lab_inds, 'start_time'].values\n",
    "    lab_stops = clabels.loc[lab_inds, 'stop_time'].values\n",
    "    lab_widths = lab_stops - lab_starts\n",
    "    rects = ax.barh(np.ones_like(lab_widths), lab_widths*scale_fact, left=lab_starts*scale_fact,\n",
    "                    height=bwidth, label=uni_labs[i], color=category_colors[i])\n",
    "    \n",
    "ax.legend(ncol=len(uni_labs), bbox_to_anchor=(0, 1),\n",
    "          loc='lower left', fontsize='small')\n",
    "\n",
    "if targeted:\n",
    "    plt.xlim(targ_tlims)\n",
    "    targ_tlims_int = [int(val) for val in targ_tlims]\n",
    "    plt.xticks(targ_tlims_int)\n",
    "    ax.set_xticklabels(['{}:00'.format(targ_tlims_int[0]),\n",
    "                        '{}:00'.format(targ_tlims_int[-1])])\n",
    "else:\n",
    "    plt.xlim([0, 24])\n",
    "    plt.xticks([0, 12, 24])\n",
    "    ax.set_xticklabels(['0:00', '12:00', '0:00'])\n",
    "\n",
    "ax.yaxis.set_visible(False)\n",
    "ax.spines['top'].set_visible(False)\n",
    "ax.spines['left'].set_visible(False)\n",
    "ax.spines['right'].set_visible(False)\n",
    "plt.show()"
   ]
  }
 ],
 "metadata": {
  "kernelspec": {
   "display_name": "Python 3",
   "language": "python",
   "name": "python3"
  },
  "language_info": {
   "codemirror_mode": {
    "name": "ipython",
    "version": 3
   },
   "file_extension": ".py",
   "mimetype": "text/x-python",
   "name": "python",
   "nbconvert_exporter": "python",
   "pygments_lexer": "ipython3",
   "version": "3.7.10"
  }
 },
 "nbformat": 4,
 "nbformat_minor": 5
}
